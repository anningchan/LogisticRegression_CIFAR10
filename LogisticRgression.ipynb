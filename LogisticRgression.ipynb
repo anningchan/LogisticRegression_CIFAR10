{
 "cells": [
  {
   "cell_type": "code",
   "execution_count": 6,
   "metadata": {},
   "outputs": [],
   "source": [
    "import numpy as np\n",
    "from numpy.linalg import inv\n",
    "        "
   ]
  },
  {
   "cell_type": "code",
   "execution_count": null,
   "metadata": {
    "collapsed": true
   },
   "outputs": [],
   "source": [
    "class LogisticRgression(object):\n",
    "    \n",
    "    \"\"\" LogisticRgressionClassification\n",
    "    \n",
    "    \"\"\"\n",
    "    \n",
    "    def __init__(self,xtrain,ytrain):\n",
    "        \n",
    "        \"\"\"y=x*b>>>>>>>>y[m,k]=x[m,n]*_w[n,k]\"\"\"\n",
    "        m = xtrain.shape[0] # number  of samples\n",
    "        n = xtrain.shape[1] # number of features\n",
    "        k = ytrain.shape[1] # number of classfications\n",
    "       \n",
    "        x = np.concatenate((xtrain,np.ones((m,1),dtype=xtrain.dtype)),axis=1)\n",
    "        \n",
    "        \n",
    "        self._w = np.empty((n+1,k),dtype=np.float64)\n",
    "       \n",
    "       \n",
    "    def train(self,xtrain,ytrain):\n",
    "        \n",
    "        inverse = inv(np.dot(x.T,x))\n",
    "        for i in range(10):\n",
    "            t = np.array([1.0 if i == y else 0.0 for y in ytrain])[:, np.newaxis]\n",
    "            self._w[:,i] = np.dot(inverse,np.dot(x.T,t))\n",
    "            \n",
    "        \n",
    "    def predict(self,xtest):\n",
    "        #xtest is a m*n np.array, m is the number of test samples, n is the number of features,\n",
    "        # which is 10000*3072 for cifar10\n",
    "        \n",
    "        m = xtest.shape[0]\n",
    "        \n",
    "        ypred  = np.empty(m,dtype=np.float64)\n",
    "        \n",
    "        x = np.concatenate((xtest,np.ones((m,1),dtype=xtrain.dtype)),axis=1)\n",
    "        \n",
    "        f = np.dot(x,self._w)\n",
    "        \n",
    "        for i in range(f.shape[0]):\n",
    "            scores = f[i]\n",
    "            ypred[i] = np.argmax(scores)\n",
    "    return ypred"
   ]
  },
  {
   "cell_type": "code",
   "execution_count": null,
   "metadata": {
    "collapsed": true
   },
   "outputs": [],
   "source": []
  }
 ],
 "metadata": {
  "kernelspec": {
   "display_name": "Python 2",
   "language": "python",
   "name": "python2"
  },
  "language_info": {
   "codemirror_mode": {
    "name": "ipython",
    "version": 2
   },
   "file_extension": ".py",
   "mimetype": "text/x-python",
   "name": "python",
   "nbconvert_exporter": "python",
   "pygments_lexer": "ipython2",
   "version": "2.7.13"
  }
 },
 "nbformat": 4,
 "nbformat_minor": 2
}
